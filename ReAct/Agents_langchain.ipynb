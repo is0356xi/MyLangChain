{
 "cells": [
  {
   "cell_type": "code",
   "execution_count": null,
   "id": "80016736",
   "metadata": {},
   "outputs": [],
   "source": [
    "from langchain.agents import load_tools\n",
    "from langchain.agents import initialize_agent\n",
    "from langchain.agents import AgentType\n",
    "from langchain.llms import OpenAI\n",
    "import os\n",
    "\n",
    "# APIキーをセット (変数名はLangChain側で決められています)\n",
    "open_api_key = os.environ[\"openai_api_key\"]\n",
    "serpapi_api_key = os.environ[\"serpapi_api_key\"]"
   ]
  },
  {
   "cell_type": "markdown",
   "id": "b9038c38",
   "metadata": {},
   "source": [
    "# Agents機能を試す"
   ]
  },
  {
   "cell_type": "code",
   "execution_count": null,
   "id": "45a171c2",
   "metadata": {},
   "outputs": [],
   "source": [
    "# 言語モデルを指定し、ツールをセットアップ\n",
    "llm = OpenAI(temperature=0)\n",
    "tools = load_tools([\"serpapi\", \"llm-math\"], llm=llm)\n",
    "\n",
    "# エージェントに能力を付与し、Zero-Shot & ReActで機能させることを定義 \n",
    "agent = initialize_agent(tools, llm, agent=AgentType.ZERO_SHOT_REACT_DESCRIPTION, verbose=True)"
   ]
  },
  {
   "cell_type": "code",
   "execution_count": null,
   "id": "0eae510c",
   "metadata": {},
   "outputs": [],
   "source": [
    "agent.run(\"東京都の人口は、日本の総人口の何パーセントを占めていますか？\")"
   ]
  },
  {
   "cell_type": "code",
   "execution_count": null,
   "id": "92c97a69",
   "metadata": {},
   "outputs": [],
   "source": [
    "agent.run(\"2023年時点の情報で質問に答えて。東京都の人口は、日本の総人口の何パーセントを占めていますか？\")"
   ]
  },
  {
   "cell_type": "markdown",
   "id": "61617111",
   "metadata": {},
   "source": [
    "# ユーザ独自のToolsを試す"
   ]
  },
  {
   "cell_type": "code",
   "execution_count": null,
   "id": "d3297d95",
   "metadata": {},
   "outputs": [],
   "source": [
    "from langchain.agents import initialize_agent, Tool\n",
    "from langchain.agents import AgentType\n",
    "from langchain.llms import OpenAI\n",
    "from langchain import LLMMathChain, SerpAPIWrapper\n",
    "\n",
    "# Serpapiのラッパーをインスタンス化\n",
    "search = SerpAPIWrapper()\n",
    "\n",
    "# ツールを定義\n",
    "tools = [\n",
    "    Tool(\n",
    "        name = \"Search\",\n",
    "        func=search.run,\n",
    "        description=\"useful for when you need to answer questions about current events\"\n",
    "    ),\n",
    "    Tool(\n",
    "        name=\"Music Search\",\n",
    "        func=lambda x: \"'All I Want For Christmas Is You' by Mariah Carey.\", #Mock Function\n",
    "        description=\"A Music search engine. Use this more than the normal search if the question is about Music, like 'who is the singer of yesterday?' or 'what is the most popular song in 2022?'\",\n",
    "    )\n",
    "]\n",
    "\n",
    "agent = initialize_agent(tools, OpenAI(temperature=0), agent=AgentType.ZERO_SHOT_REACT_DESCRIPTION, verbose=True)"
   ]
  },
  {
   "cell_type": "code",
   "execution_count": null,
   "id": "a6d9b20d",
   "metadata": {},
   "outputs": [],
   "source": [
    "agent.run(\"クリスマスに関連する歌で最も有名な曲は？\")"
   ]
  },
  {
   "cell_type": "markdown",
   "id": "3fec202c",
   "metadata": {},
   "source": [
    "# AgentからAPIを叩く"
   ]
  },
  {
   "cell_type": "code",
   "execution_count": null,
   "id": "755ba02e",
   "metadata": {},
   "outputs": [],
   "source": [
    "# Webサーバ (notebook外で実行)\n",
    "from flask import Flask, request\n",
    "import hashlib\n",
    "\n",
    "app = Flask(__name__)\n",
    "\n",
    "# チャット・メールなどを含む社内情報を収集し、トピックごとに分類されたデータをもっていると仮定。\n",
    "topics = {\n",
    "    \"プロジェクト管理の効率化\" : \"チームのプロジェクト管理プロセスを改善し、効率的なタスク管理とスケジュール管理を実現するための施策は、ｘｘｘｘｘｘ\",\n",
    "    \"技術トレンドの研究と導入\": \"最新の技術トレンドを追い、適切な案件においてその導入を検討し、競争力を高める。現状はｙｙｙｙｙｙ\",\n",
    "    \"チームメンバーのスキル開発\": \"チームメンバーのスキル開発を促進し、トレーニングや教育プログラムの導入により技術力と専門知識の向上を図る。現在、ｚｚｚｚｚｚ\",\n",
    "}\n",
    "\n",
    "@app.route('/api/list_topics', methods=['GET'])\n",
    "def list_topics():\n",
    "    return list(topics.keys())\n",
    "\n",
    "@app.route('/api/get_topic', methods=['POST'])\n",
    "def get_topic():\n",
    "    topic_name = request.form.get('topic_name')\n",
    "    topic = topics[topic_name]\n",
    "    \n",
    "    return topic \n",
    "     \n",
    "if __name__ == '__main__':\n",
    "    app.run()"
   ]
  },
  {
   "cell_type": "code",
   "execution_count": null,
   "id": "3ed03313",
   "metadata": {},
   "outputs": [],
   "source": [
    "!curl localhost:5000/api/list_topics"
   ]
  },
  {
   "cell_type": "code",
   "execution_count": null,
   "id": "fc426245",
   "metadata": {},
   "outputs": [],
   "source": [
    "!curl -X POST -d \"topic_name=プロジェクト管理の効率化\" http://localhost:5000/api/get_topic"
   ]
  },
  {
   "cell_type": "markdown",
   "id": "88d3f980",
   "metadata": {},
   "source": [
    "# API連携するAgent×Tools"
   ]
  },
  {
   "cell_type": "code",
   "execution_count": 2,
   "id": "4908ad44",
   "metadata": {},
   "outputs": [
    {
     "name": "stdout",
     "output_type": "stream",
     "text": [
      "\n",
      "\n",
      "\u001b[1m> Entering new AgentExecutor chain...\u001b[0m\n",
      "\u001b[32;1m\u001b[1;3m ListTopicを使用してトピックの一覧を取得する必要がある。\n",
      "Action: ListTopic\n",
      "Action Input: None\u001b[0m\n",
      "Observation: \u001b[36;1m\u001b[1;3m['プロジェクト管理の効率化', '技術トレンドの研究と導入', 'チームメンバーのスキル開発']\u001b[0m\n",
      "Thought:\u001b[32;1m\u001b[1;3m ユーザーが求めているトピックを特定する必要がある。\n",
      "Action: Human\n",
      "Action Input: ユーザーが求めているトピックを教えてください。\u001b[0m\n",
      "\n",
      "ユーザーが求めているトピックを教えてください。\n",
      "技術トレンドの研究と導入\n",
      "\n",
      "Observation: \u001b[33;1m\u001b[1;3m技術トレンドの研究と導入\u001b[0m\n",
      "Thought:\u001b[32;1m\u001b[1;3m GetTopicを使用して、技術トレンドの研究と導入のトピックを取得する必要がある。\n",
      "Action: GetTopic\n",
      "Action Input: {'topic_name': '技術トレンドの研究と導入'}\u001b[0m\n",
      "Observation: \u001b[38;5;200m\u001b[1;3m最新の技術トレンドを追い、適切な案件においてその導入を検討し、競争力を高める。現状はｙｙｙｙｙｙ\u001b[0m\n",
      "Thought:\u001b[32;1m\u001b[1;3m 答えを決定する。\n",
      "Final Answer: 最新の技術トレンドを追い、適切な案件においてその導入を検討し、競争力を高める。現状はｙｙｙｙｙｙ\u001b[0m\n",
      "\n",
      "\u001b[1m> Finished chain.\u001b[0m\n"
     ]
    },
    {
     "data": {
      "text/plain": [
       "'最新の技術トレンドを追い、適切な案件においてその導入を検討し、競争力を高める。現状はｙｙｙｙｙｙ'"
      ]
     },
     "execution_count": 2,
     "metadata": {},
     "output_type": "execute_result"
    }
   ],
   "source": [
    "from langchain.agents import initialize_agent, AgentType\n",
    "from langchain.tools import BaseTool\n",
    "from langchain.callbacks.manager import CallbackManagerForToolRun, AsyncCallbackManagerForToolRun\n",
    "from typing import Optional, Type, Callable\n",
    "from pydantic import Field\n",
    "import requests\n",
    "import json\n",
    "\n",
    "# APIキーをセット (変数名はLangChain側で決められています)\n",
    "from langchain.llms import OpenAI\n",
    "import os\n",
    "open_api_key = os.environ[\"openai_api_key\"]\n",
    "\n",
    "# 言語モデルを指定\n",
    "llm = OpenAI(temperature=0)\n",
    "\n",
    "# WebサーバのAPIエンドポイント\n",
    "url = \"http://localhost:5000/api/\"\n",
    "\n",
    "\n",
    "# トピック一覧を取得するツール\n",
    "class ListTopicTool(BaseTool): # BaseToolクラスのサブクラスとして、クラスを自作\n",
    "    name = \"ListTopic\"\n",
    "    description = \"\"\"\n",
    "    Retrieve a list of topics. \n",
    "    If a user is requesting a list of topics, Use this functionality.\n",
    "    For example, the question is about List of Topic, like 'What are the topics for this week?' or 'What kind of topics are available?'\"\n",
    "    \"\"\"\n",
    "    \n",
    "    # エンドポイントにGETリクエストを送信\n",
    "    def _run(self, query: str, run_manager: Optional[CallbackManagerForToolRun] = None) -> str:\n",
    "        response = requests.get(url + \"list_topics\")\n",
    "        topics = response.json()\n",
    "        return topics\n",
    "    \n",
    "    # 非同期実行の関数も必須\n",
    "    async def _arun(self, query: str, run_manager: Optional[AsyncCallbackManagerForToolRun] = None) -> str:\n",
    "        raise NotImplementedError(\"ListTopicTool does not support async\")\n",
    "\n",
    "        \n",
    "\n",
    "def _print_func(text: str) -> None:\n",
    "    print(\"\\n\")\n",
    "    print(text)\n",
    "\n",
    "# ユーザにトピック選択を促すツール\n",
    "class HumanInputTool(BaseTool):\n",
    "    name = \"Human\"\n",
    "    description = \"\"\"\n",
    "    If you have obtained topics or if the Human`s desired \"topic_name\" is ambiguous, \n",
    "    you have must ask a Human which topics they are interested in. \n",
    "    The input should be a question for the Human. \"\n",
    "    You can also consult a Human when you feel stuck or unsure about what to do next.\"\n",
    "    \"\"\"\n",
    "    \n",
    "    # ユーザへの質問を表示する関数\n",
    "    prompt_func: Callable[[str], None] = Field(default_factory=lambda: _print_func)\n",
    "    # 入力を受け付ける関数\n",
    "    input_func: Callable = Field(default_factory=lambda: input)\n",
    "        \n",
    "    def _run(self, query: str, run_manager: Optional[CallbackManagerForToolRun] = None) -> str:\n",
    "        # ユーザへの質問を表示する\n",
    "        self.prompt_func(query)\n",
    "        # 入力を受け付ける関数を実行\n",
    "        return self.input_func()\n",
    "\n",
    "    async def _arun(self, query: str, run_manager: Optional[AsyncCallbackManagerForToolRun] = None,) -> str:\n",
    "        raise NotImplementedError(\"Human tool does not support async\")\n",
    "\n",
    "    \n",
    "# 指定トピックの内容を取得するツール\n",
    "class GetTopicTool(BaseTool):  # BaseToolクラスのサブクラスとして、クラスを自作\n",
    "    name = \"GetTopic\"\n",
    "    description = \"\"\"\n",
    "    Retrieve a specific topic requested by the user.\n",
    "    This functionality is used when the user is seeking the content of a particular topic, \n",
    "    such as when they specify a topic name like \"Cloud Expansion Strategy\" or when they ask a question like \"Tell me about skill development for young employees.\"\n",
    "    When executing this functionality, you need to provide input in the form of a dictionary with key-value pairs. \n",
    "    The key should be \"topic_name\" in Japanese and the value should be the specified topic name by the user or the extracted topic name from the user's query.\n",
    "    \"\"\"\n",
    "    \n",
    "    # エンドポイントにPOSTリクエストを送信\n",
    "    def _run(self, query: str, run_manager: Optional[CallbackManagerForToolRun] = None) -> str:\n",
    "        query = query.replace(\"'\", '\"').encode('utf-8')\n",
    "        query_dict= json.loads(query)\n",
    "        response = requests.post(url + \"get_topic\", query_dict)\n",
    "        topic_content = response.text\n",
    "        return topic_content\n",
    "        \n",
    "    # 非同期実行の関数も必須\n",
    "    async def _arun(self, query: str, run_manager: Optional[AsyncCallbackManagerForToolRun] = None) -> str:\n",
    "        raise NotImplementedError(\"ListTopicTool does not support async\")\n",
    "            \n",
    "            \n",
    "# ツールを設定\n",
    "tools = [\n",
    "    ListTopicTool(),\n",
    "    HumanInputTool(),\n",
    "    GetTopicTool()\n",
    "]\n",
    "\n",
    "# エージェントを定義\n",
    "agent = initialize_agent(tools, OpenAI(temperature=0), agent=AgentType.ZERO_SHOT_REACT_DESCRIPTION, verbose=True)\n",
    "\n",
    "# エージェント起動\n",
    "agent.run(\"トピックの一覧を表示し、トピックの内容を把握したいです。\")"
   ]
  },
  {
   "cell_type": "markdown",
   "id": "c84fac02",
   "metadata": {},
   "source": [
    "# 外部のサーバに保持されているデータ例"
   ]
  },
  {
   "cell_type": "code",
   "execution_count": null,
   "id": "768485b1",
   "metadata": {},
   "outputs": [],
   "source": [
    "topics = {\n",
    "    \"プロジェクト管理の効率化\" : \"チームのプロジェクト管理プロセスを改善し、効率的なタスク管理とスケジュール管理を実現するための施策は、ｘｘｘｘｘｘ\",\n",
    "    \"技術トレンドの研究と導入\" : \"最新の技術トレンドを追い、適切な案件においてその導入を検討し、競争力を高める。現状はｙｙｙｙｙｙ\",\n",
    "    \"チームメンバーのスキル開発\": \"チームメンバーのスキル開発を促進し、トレーニングや教育プログラムの導入により技術力と専門知識の向上を図る。現在、ｚｚｚｚｚｚ\",\n",
    "}"
   ]
  },
  {
   "cell_type": "markdown",
   "id": "ed6e7ba0",
   "metadata": {},
   "source": [
    "# AgentsがAPI連携してデータを取得する"
   ]
  },
  {
   "cell_type": "code",
   "execution_count": null,
   "id": "0d94920f",
   "metadata": {},
   "outputs": [],
   "source": [
    "agent.run(\"トピックの一覧を表示して。\")"
   ]
  },
  {
   "cell_type": "code",
   "execution_count": null,
   "id": "cf473053",
   "metadata": {},
   "outputs": [],
   "source": [
    "agent.run(\"トピックの一覧を表示し、トピックの内容を把握したいです。\")"
   ]
  },
  {
   "cell_type": "code",
   "execution_count": null,
   "id": "3dc763d0",
   "metadata": {},
   "outputs": [],
   "source": [
    "agent.run(\"「プロジェクト管理の効率化」について教えて。\")"
   ]
  },
  {
   "cell_type": "markdown",
   "id": "a128333a",
   "metadata": {},
   "source": [
    "# その他・テスト"
   ]
  },
  {
   "cell_type": "code",
   "execution_count": null,
   "id": "00be2f74",
   "metadata": {},
   "outputs": [],
   "source": [
    "url = \"http://localhost:5000/api/\"\n",
    "def get_test():\n",
    "    response = requests.get(url + \"list_topics\")\n",
    "    data = response.json()\n",
    "    print(data)\n",
    "    \n",
    "get_test()"
   ]
  },
  {
   "cell_type": "code",
   "execution_count": null,
   "id": "08ec6d73",
   "metadata": {},
   "outputs": [],
   "source": [
    "url = \"http://localhost:5000/api/\"\n",
    "def post_test():\n",
    "    response = requests.post(url + \"get_topic\", {\"topic_name\":\"プロジェクト管理の効率化\"})\n",
    "    data = response.text\n",
    "    print(data)\n",
    "    \n",
    "post_test()"
   ]
  }
 ],
 "metadata": {
  "kernelspec": {
   "display_name": "Python 3 (ipykernel)",
   "language": "python",
   "name": "python3"
  },
  "language_info": {
   "codemirror_mode": {
    "name": "ipython",
    "version": 3
   },
   "file_extension": ".py",
   "mimetype": "text/x-python",
   "name": "python",
   "nbconvert_exporter": "python",
   "pygments_lexer": "ipython3",
   "version": "3.10.9"
  }
 },
 "nbformat": 4,
 "nbformat_minor": 5
}
