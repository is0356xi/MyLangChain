{
 "cells": [
  {
   "cell_type": "code",
   "execution_count": null,
   "id": "13b628b8",
   "metadata": {},
   "outputs": [],
   "source": [
    "from langchain import HuggingFacePipeline, PromptTemplate, LLMChain\n",
    "from transformers import AutoModelForCausalLM, AutoTokenizer, pipeline\n",
    "import torch"
   ]
  },
  {
   "cell_type": "code",
   "execution_count": null,
   "id": "2e3d5b2a",
   "metadata": {},
   "outputs": [],
   "source": [
    "# GPUの確認\n",
    "device = torch.device(\"cuda\" if torch.cuda.is_available() else \"cpu\")\n",
    "print(f\"\\n!!! current device is {device} !!!\\n\")"
   ]
  },
  {
   "cell_type": "code",
   "execution_count": null,
   "id": "f3c8b671",
   "metadata": {},
   "outputs": [],
   "source": [
    "# モデルのダウンロード\n",
    "model_id = \"inu-ai/dolly-japanese-gpt-1b\"\n",
    "tokenizer = AutoTokenizer.from_pretrained(model_id)\n",
    "model = AutoModelForCausalLM.from_pretrained(model_id).to(device)\n",
    "# model = AutoModelForCausalLM.from_pretrained(model_id)"
   ]
  },
  {
   "cell_type": "code",
   "execution_count": null,
   "id": "f820d6c1",
   "metadata": {},
   "outputs": [],
   "source": [
    "# LLMs: langchainで上記モデルを利用する\n",
    "task = \"text-generation\"\n",
    "pipe = pipeline(\n",
    "    task, \n",
    "    model=model,\n",
    "    tokenizer=tokenizer,\n",
    "    device=0,\n",
    "    framework='pt',\n",
    "    max_new_tokens=32,\n",
    "    temperature=0.1,\n",
    ")\n",
    "\n",
    "llm = HuggingFacePipeline(pipeline=pipe)"
   ]
  },
  {
   "cell_type": "code",
   "execution_count": null,
   "id": "b41abc75",
   "metadata": {},
   "outputs": [],
   "source": [
    "# Prompts: プロンプトを作成\n",
    "template = r\"<s>\\n以下は、タスクを説明する指示と、文脈のある入力の組み合わせです。要求を適切に満たす応答を書きなさい。\\n[SEP]\\n指示:\\n{instruction}\\n[SEP]\\n入力:\\n{question}\\n[SEP]\\n応答:\\n\"\n",
    "# template = \"\"\"\\n以下は、タスクを説明する指示と、文脈のある入力の組み合わせです。要求を適切に満たす応答を書きなさい。\\n\\n指示:\\n{instruction}\\n\\n入力:\\n{question}\\n\\n応答:\\n\"\"\"\n",
    "prompt = PromptTemplate(template=template, input_variables=[\"instruction\", \"question\"])\n",
    "\n",
    "# Chains: llmを利用可能な状態にする\n",
    "llm_chain = LLMChain(prompt=prompt, llm=llm, verbose=True)"
   ]
  },
  {
   "cell_type": "code",
   "execution_count": null,
   "id": "829d417e",
   "metadata": {},
   "outputs": [],
   "source": [
    "# 指示を与え、質問を投げる\n",
    "import time\n",
    "instruction = \"あなたはユーザの入力に応答するアシスタントです。文章の繰り返しを避け、簡潔に要約して回答してください。\"\n",
    "question = \"東京ってなに？\"\n",
    "\n",
    "start = time.time()\n",
    "\n",
    "generated_text = llm_chain.run({\"instruction\":instruction, \"question\":question})\n",
    "\n",
    "print(time.time()-start)\n",
    "print(generated_text)\n",
    "\n"
   ]
  }
 ],
 "metadata": {
  "kernelspec": {
   "display_name": "Python 3 (ipykernel)",
   "language": "python",
   "name": "python3"
  },
  "language_info": {
   "codemirror_mode": {
    "name": "ipython",
    "version": 3
   },
   "file_extension": ".py",
   "mimetype": "text/x-python",
   "name": "python",
   "nbconvert_exporter": "python",
   "pygments_lexer": "ipython3",
   "version": "3.10.9"
  }
 },
 "nbformat": 4,
 "nbformat_minor": 5
}
