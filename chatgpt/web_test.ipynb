{
 "cells": [
  {
   "cell_type": "code",
   "execution_count": null,
   "id": "9159cc7e",
   "metadata": {},
   "outputs": [],
   "source": [
    "from selenium import webdriver\n",
    "from selenium.webdriver.common.keys import Keys\n",
    "from selenium.webdriver.chrome.service import Service\n",
    "from selenium.webdriver.common.by import By\n",
    "from selenium.webdriver.chrome.options import Options\n",
    "import undetected_chromedriver as uc\n",
    "import time\n",
    "import os\n",
    "\n",
    "# オプション設定\n",
    "options = Options()\n",
    "options.add_argument(\"--user-data-dir=C:/Users/socce/AppData/Local/Google/Chrome/User Data\")\n",
    "options.add_argument(\"--profile-directory=Default\")\n",
    "# options.headless = True\n",
    "\n",
    "# サービスオブジェクトを作成\n",
    "driver_path = \"./chromedriver\"\n",
    "service = Service(driver_path)\n",
    "\n",
    "\n",
    "# Chromeドライバーを初期化\n",
    "driver = webdriver.Chrome(service=service, options=options)\n",
    "\n",
    "# Googleアカウントに接続\n",
    "# driver.get(\"https://accounts.google.com/\")"
   ]
  },
  {
   "cell_type": "code",
   "execution_count": null,
   "id": "1fed4b35",
   "metadata": {},
   "outputs": [],
   "source": [
    "# ChatGPTに接続ログイン\n",
    "driver.get(\"https://chat.openai.com/\")\n",
    "\n"
   ]
  },
  {
   "cell_type": "code",
   "execution_count": null,
   "id": "a60c3d06",
   "metadata": {},
   "outputs": [],
   "source": [
    "# ログインボタンをクリック\n",
    "buttons = driver.find_elements(By.TAG_NAME, \"button\")\n",
    "login = buttons[0]\n",
    "login.click()\n",
    "#.send_keys(Keys.RETURN)"
   ]
  },
  {
   "cell_type": "code",
   "execution_count": null,
   "id": "5a9c6709",
   "metadata": {},
   "outputs": [],
   "source": [
    "# クエリ入力\n",
    "# driver.find_element(By.TAG_NAME, 'textarea')\n",
    "# input_field.send_keys(query)\n",
    "# input_field.send_keys(Keys.RETURN)"
   ]
  },
  {
   "cell_type": "markdown",
   "id": "d575fbf2",
   "metadata": {},
   "source": [
    "# Undetected ChromeDriver"
   ]
  },
  {
   "cell_type": "code",
   "execution_count": 1,
   "id": "0b99acf3",
   "metadata": {},
   "outputs": [],
   "source": [
    "import undetected_chromedriver as uc\n",
    "from selenium.webdriver.chrome.options import Options\n",
    "from selenium.webdriver.common.keys import Keys\n",
    "from selenium.webdriver.common.by import By\n",
    "\n",
    "# オプション設定\n",
    "options = Options()\n",
    "options.add_argument(\"--user-data-dir=C:/Users/socce/AppData/Local/Google/Chrome/User Data\")\n",
    "options.add_argument(\"--profile-directory=Default\")\n",
    "\n",
    "# undetected driverの初期化\n",
    "driver = uc.Chrome(options=options)\n",
    "\n",
    "# ChatGPTに接続ログイン\n",
    "driver.get(\"https://chat.openai.com/\")"
   ]
  },
  {
   "cell_type": "code",
   "execution_count": 2,
   "id": "4c8780cd",
   "metadata": {},
   "outputs": [],
   "source": [
    "# クエリ入力欄を取得\n",
    "textarea = driver.find_element(By.TAG_NAME, 'textarea')"
   ]
  },
  {
   "cell_type": "code",
   "execution_count": 4,
   "id": "8e736539",
   "metadata": {},
   "outputs": [],
   "source": [
    "# クエリを送信\n",
    "query = \"Pythonでリストの最後尾を取得したい。\"\n",
    "textarea.send_keys(query)\n",
    "textarea.send_keys(Keys.RETURN)"
   ]
  },
  {
   "cell_type": "code",
   "execution_count": 5,
   "id": "1e37a3e4",
   "metadata": {},
   "outputs": [
    {
     "name": "stdout",
     "output_type": "stream",
     "text": [
      "ここで、my_list[-1]はリストmy_listの最後の要素を取得しています。また、マイナスのインデックスは、リストの末尾からのインデックスを表します。つまり、my_list[-1]はリストの最後の要素であり、my_list[-2]は最後から2番目の要素であり、my_list[-3]は最後から3番目の要素、というように続きます。\n"
     ]
    }
   ],
   "source": [
    "# レスポンスを取得\n",
    "response = driver.find_elements(By.TAG_NAME, 'p')[-2].text\n",
    "print(response)"
   ]
  },
  {
   "cell_type": "code",
   "execution_count": null,
   "id": "5bf663f4",
   "metadata": {},
   "outputs": [],
   "source": []
  }
 ],
 "metadata": {
  "kernelspec": {
   "display_name": "Python 3 (ipykernel)",
   "language": "python",
   "name": "python3"
  },
  "language_info": {
   "codemirror_mode": {
    "name": "ipython",
    "version": 3
   },
   "file_extension": ".py",
   "mimetype": "text/x-python",
   "name": "python",
   "nbconvert_exporter": "python",
   "pygments_lexer": "ipython3",
   "version": "3.10.9"
  }
 },
 "nbformat": 4,
 "nbformat_minor": 5
}
